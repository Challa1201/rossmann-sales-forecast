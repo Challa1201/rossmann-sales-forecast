{
 "cells": [
  {
   "cell_type": "markdown",
   "id": "front-fossil",
   "metadata": {},
   "source": [
    "# Exploratory Data Analysis"
   ]
  },
  {
   "cell_type": "markdown",
   "id": "disabled-malaysia",
   "metadata": {},
   "source": [
    "<span style='color:red'><b>To be done.</b></span>"
   ]
  },
  {
   "cell_type": "code",
   "execution_count": null,
   "id": "confused-encounter",
   "metadata": {},
   "outputs": [],
   "source": [
    "%load_ext lab_black\n",
    "%load_ext autoreload\n",
    "%autoreload 2"
   ]
  },
  {
   "cell_type": "code",
   "execution_count": null,
   "id": "constant-sailing",
   "metadata": {
    "tags": []
   },
   "outputs": [],
   "source": [
    "import altair as alt\n",
    "import matplotlib.pyplot as plt\n",
    "import pandas as pd"
   ]
  },
  {
   "cell_type": "code",
   "execution_count": null,
   "id": "yellow-norwegian",
   "metadata": {
    "tags": []
   },
   "outputs": [],
   "source": [
    "df = pd.read_parquet(\n",
    "    \"data/processed/cleaned_train_20210315_174313.parquet.gzip\", engine=\"auto\"\n",
    ")\n",
    "df[[\"Store\", \"Date\", \"Month\", \"Dayofyear\", \"State\", \"Sales\", \"Year\"]]"
   ]
  },
  {
   "cell_type": "code",
   "execution_count": null,
   "id": "premier-temple",
   "metadata": {
    "tags": []
   },
   "outputs": [],
   "source": [
    "df_store1 = df[(df[\"Store\"] == 1)][[\"Date\", \"Dayofyear\", \"Year\", \"Sales\"]]\n",
    "display(df_store1)"
   ]
  },
  {
   "cell_type": "code",
   "execution_count": null,
   "id": "bored-worry",
   "metadata": {
    "tags": []
   },
   "outputs": [],
   "source": [
    "alt.Chart(df_store1).mark_line().encode(\n",
    "    x=alt.X(\"Dayofyear:O\"),\n",
    "    y=\"Sales:Q\",\n",
    "    color=alt.Color(\"Year:N\", legend=alt.Legend(orient=\"top\")),\n",
    "    tooltip=[\"Year\", \"Dayofyear\", \"Sales\"],\n",
    ").properties(width=675)"
   ]
  },
  {
   "cell_type": "code",
   "execution_count": null,
   "id": "enhanced-weight",
   "metadata": {
    "tags": []
   },
   "outputs": [],
   "source": [
    "df_sy_sales = df.groupby([\"Store\", \"Year\"]).agg({\"Sales\": [\"min\", \"max\"]}).reset_index()\n",
    "display(df_sy_sales)"
   ]
  }
 ],
 "metadata": {
  "kernelspec": {
   "display_name": "Python 3",
   "language": "python",
   "name": "python3"
  },
  "language_info": {
   "codemirror_mode": {
    "name": "ipython",
    "version": 3
   },
   "file_extension": ".py",
   "mimetype": "text/x-python",
   "name": "python",
   "nbconvert_exporter": "python",
   "pygments_lexer": "ipython3",
   "version": "3.8.5"
  }
 },
 "nbformat": 4,
 "nbformat_minor": 5
}
