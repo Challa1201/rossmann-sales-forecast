{
 "cells": [
  {
   "cell_type": "markdown",
   "id": "noted-chapel",
   "metadata": {},
   "source": [
    "# Data Cleaning, Merging and Feature Engineering"
   ]
  },
  {
   "cell_type": "code",
   "execution_count": null,
   "id": "japanese-lunch",
   "metadata": {
    "tags": []
   },
   "outputs": [],
   "source": [
    "%load_ext lab_black\n",
    "%load_ext autoreload\n",
    "%autoreload 2"
   ]
  },
  {
   "cell_type": "code",
   "execution_count": null,
   "id": "handed-society",
   "metadata": {
    "tags": []
   },
   "outputs": [],
   "source": [
    "import os\n",
    "import re\n",
    "import time\n",
    "\n",
    "import numpy as np\n",
    "import pandas as pd\n",
    "from isoweek import Week\n",
    "from sklearn.pipeline import Pipeline"
   ]
  },
  {
   "cell_type": "code",
   "execution_count": null,
   "id": "separate-popularity",
   "metadata": {
    "tags": []
   },
   "outputs": [],
   "source": [
    "%aimport src.data_custom_transformers\n",
    "import src.data_custom_transformers as ct\n",
    "\n",
    "%aimport src.data_helpers\n",
    "from src.data_helpers import left_merge_dfs\n",
    "\n",
    "%aimport src.features_helpers\n",
    "from src.features_helpers import add_datepart, get_elapsed\n",
    "\n",
    "%aimport src.test_helpers\n",
    "from src.test_helpers import test_train_test_target_var"
   ]
  },
  {
   "cell_type": "markdown",
   "id": "sweet-affect",
   "metadata": {},
   "source": [
    "<a id=\"toc\"></a>\n",
    "\n",
    "## [Table of Contents](#table-of-contents)\n",
    "0.  [About](#about)\n",
    "1.  [User Inputs](#user-inputs)\n",
    "2.  [Load Data](#load-data)\n",
    "3.  [Data Cleaning](#data-cleaning)\n",
    "4.  [Feature Extraction](#feature-extraction)\n",
    "5.  [Merging Data Sources](#merging-data-sources)\n",
    "6.  [Handle Missing values](#handle-missing-values)\n",
    "7.  [Feature Engineering](#feature-engineering)\n",
    "    -   7.1. [Elapsed Time - Competitors](#elapsed-time---competitors)\n",
    "    -   7.2. [Elapsed Time - Promo2](#elapsed-time---promo2)\n",
    "    -   7.3. [Add time before and after special events](#add-time-before-and-after-special-events)\n",
    "    -   7.4. [Weekly Rolling Average, of number of special-event days, by store](#weekly-rolling-average,-of-number-of-special-event-days,-by-store)\n",
    "8.  [Dropping columns from `LEFT_JOIN`](#dropping-columns-from-`left-join`)\n",
    "9.  [Export merged data](#export-merged-data)\n",
    "10.  [Ideas for Exploratory Data Analysis](#ideas-for-exploratory-data-analysis)"
   ]
  },
  {
   "cell_type": "markdown",
   "id": "sought-register",
   "metadata": {
    "execution": {
     "iopub.execute_input": "2021-03-17T14:26:32.381936Z",
     "iopub.status.busy": "2021-03-17T14:26:32.381752Z",
     "iopub.status.idle": "2021-03-17T14:26:32.387662Z",
     "shell.execute_reply": "2021-03-17T14:26:32.387012Z",
     "shell.execute_reply.started": "2021-03-17T14:26:32.381889Z"
    }
   },
   "source": [
    "<a id=\"about\"></a>\n",
    "\n",
    "## 0. [About](#about)"
   ]
  },
  {
   "cell_type": "markdown",
   "id": "female-motel",
   "metadata": {},
   "source": [
    "In this notebook, the raw store-wise sales data (the primary data source) will be processed, and merged wtih the secondary datasets (weather, state names, etc.). Features will be engineered from the merged data. This will be done separately for the training and testing sales datasets. Each of the merged datasets will then be exported to a [parquet](https://databricks.com/glossary/what-is-parquet) file."
   ]
  },
  {
   "cell_type": "markdown",
   "id": "certain-sculpture",
   "metadata": {},
   "source": [
    "<a id=\"user-inputs\"></a>\n",
    "\n",
    "## 1. [User Inputs](#user-inputs)"
   ]
  },
  {
   "cell_type": "code",
   "execution_count": null,
   "id": "superior-edinburgh",
   "metadata": {},
   "outputs": [],
   "source": [
    "PROJ_ROOT_DIR = os.getcwd()"
   ]
  },
  {
   "cell_type": "code",
   "execution_count": null,
   "id": "ranging-museum",
   "metadata": {
    "tags": [
     "parameters"
    ]
   },
   "outputs": [],
   "source": [
    "dataset_names = [\n",
    "    \"store\",\n",
    "    \"state_names\",\n",
    "    \"store_states\",\n",
    "    \"test\",\n",
    "    \"train\",\n",
    "    \"weather\",\n",
    "]\n",
    "train_date_max = \"2015-07-25\""
   ]
  },
  {
   "cell_type": "code",
   "execution_count": null,
   "id": "young-think",
   "metadata": {
    "tags": []
   },
   "outputs": [],
   "source": [
    "raw_data_path = os.path.join(PROJ_ROOT_DIR, \"data\", \"raw\")\n",
    "processed_data_path = os.path.join(PROJ_ROOT_DIR, \"data\", \"processed\")\n",
    "d = {tn: os.path.join(raw_data_path, \"rossmann\", f\"{tn}.csv\") for tn in dataset_names}"
   ]
  },
  {
   "cell_type": "markdown",
   "id": "geological-somerset",
   "metadata": {},
   "source": [
    "<a id=\"load-data\"></a>\n",
    "\n",
    "## 2. [Load Data](#load-data)"
   ]
  },
  {
   "cell_type": "markdown",
   "id": "steady-worry",
   "metadata": {},
   "source": [
    "Each dataset will be loaded into a separate `DataFrame`"
   ]
  },
  {
   "cell_type": "code",
   "execution_count": null,
   "id": "subjective-minnesota",
   "metadata": {
    "tags": []
   },
   "outputs": [],
   "source": [
    "%%time\n",
    "(\n",
    "    store,\n",
    "    state_names,\n",
    "    store_states,\n",
    "    test,\n",
    "    train,\n",
    "    weather,\n",
    ") = [\n",
    "    pd.read_csv(d[dataset_name], low_memory=False)\n",
    "    for dataset_name in dataset_names\n",
    "]\n",
    "print(len(train),len(test))"
   ]
  },
  {
   "cell_type": "code",
   "execution_count": null,
   "id": "abroad-classics",
   "metadata": {
    "tags": []
   },
   "outputs": [],
   "source": [
    "display(store.head())\n",
    "display(store.dtypes.to_frame().T)\n",
    "display(state_names.head())\n",
    "display(state_names.dtypes.to_frame().T)\n",
    "display(store_states.head())\n",
    "display(store_states.dtypes.to_frame().T)\n",
    "display(train.head())\n",
    "display(train.dtypes.to_frame().T)\n",
    "display(weather.head())\n",
    "display(weather.dtypes.to_frame().T)"
   ]
  },
  {
   "cell_type": "markdown",
   "id": "statewide-laser",
   "metadata": {},
   "source": [
    "**Observations**\n",
    "1. The primary datasets available are `train` and `test`, and secondary datasets provided are `store`, `store_states`, `state_names` and `weather`.\n",
    "2. `sotre` provides store details\n",
    "3. `state_names` provides the full state name and the state name acronym\n",
    "4. `store_states` provides the state name acronym for each store (store number)\n",
    "5. `train` and `test` provide store-wise data for a single date, including `Sales` (only in the `train`ing data), store number, state name (full name of the state), number of customers, promotion, school holiday, state holiday, date and day of week (Mon-Fri), and whether the store was open on that date\n",
    "6. `weather` provides the weather conditions by date for each state (full state name)"
   ]
  },
  {
   "cell_type": "markdown",
   "id": "logical-assessment",
   "metadata": {},
   "source": [
    "<a id=\"data-cleaning\"></a>\n",
    "\n",
    "## 3. [Data Cleaning](#data-cleaning)"
   ]
  },
  {
   "cell_type": "markdown",
   "id": "useful-pharmacology",
   "metadata": {},
   "source": [
    "The `StateHoliday` column in the (primary) `train` and `test` datasets is a string with a value not equal to `1` if the date on a single row corresponds to a state holiday. This string will be converted to a boolean value (`True`, indicating the date is a state holiday, if the value is not equal to `0`)."
   ]
  },
  {
   "cell_type": "code",
   "execution_count": null,
   "id": "associate-notification",
   "metadata": {},
   "outputs": [],
   "source": [
    "%%time\n",
    "str2bool_pipe = Pipeline(\n",
    "    [\n",
    "        (\"str2bool\", ct.DFStr2Bool(\"StateHoliday\", \"0\", \"ne\")),\n",
    "    ]\n",
    ")\n",
    "train = str2bool_pipe.fit_transform(train)\n",
    "test = str2bool_pipe.fit_transform(test)"
   ]
  },
  {
   "cell_type": "markdown",
   "id": "legal-issue",
   "metadata": {},
   "source": [
    "<a id=\"feature-extraction\"></a>\n",
    "\n",
    "## 4. [Feature Extraction](#feature-extraction)"
   ]
  },
  {
   "cell_type": "markdown",
   "id": "massive-regard",
   "metadata": {},
   "source": [
    "`datetime` attributes will be extracted from the `Date` column of the `weather`, `train` and `test` datasets"
   ]
  },
  {
   "cell_type": "code",
   "execution_count": null,
   "id": "emerging-landscape",
   "metadata": {
    "tags": []
   },
   "outputs": [],
   "source": [
    "%%time\n",
    "add_datepart_pipe = Pipeline(\n",
    "    [\n",
    "        (\"adddatepart\", ct.DFAddDatePart(\"Date\", False, False, False)),\n",
    "    ]\n",
    ")\n",
    "weather = add_datepart_pipe.fit_transform(weather)\n",
    "train = add_datepart_pipe.fit_transform(train)\n",
    "test = add_datepart_pipe.fit_transform(test)"
   ]
  },
  {
   "cell_type": "markdown",
   "id": "bottom-static",
   "metadata": {},
   "source": [
    "**Note**\n",
    "1. In order to assist in merging these datasets, the `Date` column will be retained after extracting the `datetime` attributes."
   ]
  },
  {
   "cell_type": "markdown",
   "id": "dominant-librarian",
   "metadata": {},
   "source": [
    "<a id=\"merging-data-sources\"></a>\n",
    "\n",
    "## 5. [Merging Data Sources](#merging-data-sources)"
   ]
  },
  {
   "cell_type": "markdown",
   "id": "packed-anniversary",
   "metadata": {},
   "source": [
    "All the secondary datasets (`store`, `store_states`, `state_names`, `weather`) will now be separately merged with the (primary) `train`ing and `test`ing data"
   ]
  },
  {
   "cell_type": "markdown",
   "id": "limiting-factory",
   "metadata": {},
   "source": [
    "First, merge <font color='green'>weather</font> data with the <font color='orange'>state</font> dataset"
   ]
  },
  {
   "cell_type": "code",
   "execution_count": null,
   "id": "approximate-hindu",
   "metadata": {
    "tags": []
   },
   "outputs": [],
   "source": [
    "%%time\n",
    "weather = weather.merge(state_names, left_on=\"file\", right_on=\"StateName\", how=\"left\", suffixes=(\"\", '_y'))"
   ]
  },
  {
   "cell_type": "markdown",
   "id": "indonesian-brake",
   "metadata": {},
   "source": [
    "Next, merge <font color='red'>store</font> data with the name of the <font color='blue'>state</font> in which the store is located"
   ]
  },
  {
   "cell_type": "code",
   "execution_count": null,
   "id": "considered-rental",
   "metadata": {
    "tags": []
   },
   "outputs": [],
   "source": [
    "%%time\n",
    "store = left_merge_dfs(store, store_states, \"Store\")\n",
    "len(store[store.State.isnull()])"
   ]
  },
  {
   "cell_type": "markdown",
   "id": "pregnant-dance",
   "metadata": {},
   "source": [
    "Next, separately merge the raw training and testing <font color='purple'>sales</font> data with the merged <font color='red'>store</font>-<font color='orange'>state</font> data"
   ]
  },
  {
   "cell_type": "code",
   "execution_count": null,
   "id": "overall-study",
   "metadata": {},
   "outputs": [],
   "source": [
    "%%time\n",
    "joined = left_merge_dfs(train, store, \"Store\")\n",
    "joined_test = left_merge_dfs(test, store, \"Store\")\n",
    "len(joined[joined.StoreType.isnull()]), len(joined_test[joined_test.StoreType.isnull()])"
   ]
  },
  {
   "cell_type": "markdown",
   "id": "sharing-estimate",
   "metadata": {},
   "source": [
    "Next, merge the merged <font color='purple'>sales</font>-<font color='red'>store</font>-<font color='orange'>state</font> data with the <font color='green'>weather</font> data\n",
    "- the `Date` column will be part of this merge, since observations in each dataset involved in this merge are listed by date"
   ]
  },
  {
   "cell_type": "code",
   "execution_count": null,
   "id": "specified-principle",
   "metadata": {
    "tags": []
   },
   "outputs": [],
   "source": [
    "%%time\n",
    "joined = left_merge_dfs(joined, weather, [\"State\",\"Date\"])\n",
    "joined_test = left_merge_dfs(joined_test, weather, [\"State\",\"Date\"])\n",
    "len(joined[joined.Mean_TemperatureC.isnull()]),len(joined_test[joined_test.Mean_TemperatureC.isnull()])"
   ]
  },
  {
   "cell_type": "markdown",
   "id": "dutch-legislature",
   "metadata": {},
   "source": [
    "We'll do a quick sanity check to verify that the target variable (`Sales`) is not in the merged testing data and that the merged testing data contains one less column than the merged training data"
   ]
  },
  {
   "cell_type": "code",
   "execution_count": null,
   "id": "everyday-painting",
   "metadata": {},
   "outputs": [],
   "source": [
    "test_train_test_target_var(joined, joined_test, \"Sales\")"
   ]
  },
  {
   "cell_type": "markdown",
   "id": "forward-enclosure",
   "metadata": {},
   "source": [
    "Since all shared columns between dataset-pairs in each merge were not used to perform the merge, this will result in suffixes (`_y`) appended to these column names. This results in duplicated columns where one column name in each pair of such shared columns ends in `_y`. So, next, one of the columns that were duplicated after the merges (column name ending in `_y`) will be dropped"
   ]
  },
  {
   "cell_type": "code",
   "execution_count": null,
   "id": "close-messaging",
   "metadata": {},
   "outputs": [],
   "source": [
    "%%time\n",
    "drop_cols_by_suffix_pipe = Pipeline(\n",
    "    [\n",
    "        (\"dropsuffix\", ct.DFDropColsBySuffix(\"_y\")),\n",
    "    ]\n",
    ")\n",
    "joined = drop_cols_by_suffix_pipe.fit_transform(joined)\n",
    "joined_test = drop_cols_by_suffix_pipe.fit_transform(joined_test)"
   ]
  },
  {
   "cell_type": "markdown",
   "id": "descending-lying",
   "metadata": {},
   "source": [
    "<a id=\"handle-missing-values\"></a>\n",
    "\n",
    "## 6. [Handle Missing values](#handle-missing-values)"
   ]
  },
  {
   "cell_type": "markdown",
   "id": "altered-tension",
   "metadata": {},
   "source": [
    "Next, missing data in special events columns will be handled. A placeholder value, *that does not appear elsewhere in the corresponding column in the* **training** <font color='purple'>sales</font> data, will be used to fill in missing values in each column in both the merged training and testing datasets.\n",
    "\n",
    "Also, the `datatype` for each of these columns will be set to an integer (since the filled in placeholder value is of integer `dtype`)"
   ]
  },
  {
   "cell_type": "markdown",
   "id": "arabic-necessity",
   "metadata": {},
   "source": [
    "Unique values occurring in each of these columns with missing values are shown below"
   ]
  },
  {
   "cell_type": "code",
   "execution_count": null,
   "id": "theoretical-exchange",
   "metadata": {
    "tags": []
   },
   "outputs": [],
   "source": [
    "na_cols = [\n",
    "    \"CompetitionOpenSinceYear\",\n",
    "    \"CompetitionOpenSinceMonth\",\n",
    "    \"Promo2SinceYear\",\n",
    "    \"Promo2SinceWeek\",\n",
    "]"
   ]
  },
  {
   "cell_type": "code",
   "execution_count": null,
   "id": "historical-cassette",
   "metadata": {
    "tags": []
   },
   "outputs": [],
   "source": [
    "for c in na_cols:\n",
    "    display(joined[c].dropna().astype(int).value_counts().to_frame())"
   ]
  },
  {
   "cell_type": "markdown",
   "id": "fuzzy-beads",
   "metadata": {},
   "source": [
    "Missing values are now filled in and the `datatype` is changed to `int`"
   ]
  },
  {
   "cell_type": "code",
   "execution_count": null,
   "id": "viral-still",
   "metadata": {},
   "outputs": [],
   "source": [
    "%%time\n",
    "fillna_placeholder_pipe = Pipeline(\n",
    "    [\n",
    "        (\"nancompetitionopensinceyear\", ct.DFFillNaPlaceHolder(\"CompetitionOpenSinceYear\", 1900)),\n",
    "        (\"competitionopensinceyearint\", ct.DFDtypeChanger(\"CompetitionOpenSinceYear\", np.int32)),        \n",
    "        (\"nancompetitionopensincemonth\", ct.DFFillNaPlaceHolder(\"CompetitionOpenSinceMonth\", 1)),\n",
    "        (\"competitionopensincemonthint\", ct.DFDtypeChanger(\"CompetitionOpenSinceMonth\", np.int32)),        \n",
    "        (\"nanpromo2sinceyear\", ct.DFFillNaPlaceHolder(\"Promo2SinceYear\", 1900)),\n",
    "        (\"promo2sinceyearint\", ct.DFDtypeChanger(\"Promo2SinceYear\", np.int32)),        \n",
    "        (\"nanpromo2sinceweek\", ct.DFFillNaPlaceHolder(\"Promo2SinceWeek\", 1)),\n",
    "        (\"promo2sinceweekint\", ct.DFDtypeChanger(\"Promo2SinceWeek\", np.int32)),        \n",
    "    ]\n",
    ")\n",
    "joined = fillna_placeholder_pipe.fit_transform(joined)\n",
    "joined_test = fillna_placeholder_pipe.fit_transform(joined_test)"
   ]
  },
  {
   "cell_type": "markdown",
   "id": "moving-pitch",
   "metadata": {},
   "source": [
    "<a id=\"feature-engineering\"></a>\n",
    "\n",
    "## 7. [Feature Engineering](#feature-engineering)"
   ]
  },
  {
   "cell_type": "markdown",
   "id": "resident-gilbert",
   "metadata": {},
   "source": [
    "<a id=\"elapsed-time---competitors\"></a>\n",
    "\n",
    "### 7.1. [Elapsed Time - Competitors](#elapsed-time---competitors)"
   ]
  },
  {
   "cell_type": "markdown",
   "id": "jewish-treasurer",
   "metadata": {},
   "source": [
    "We'll extract features \"CompetitionOpenSince\" and \"CompetitionDaysOpen\""
   ]
  },
  {
   "cell_type": "code",
   "execution_count": null,
   "id": "looking-breach",
   "metadata": {
    "tags": []
   },
   "outputs": [],
   "source": [
    "%time\n",
    "for df in (joined, joined_test):\n",
    "    df[\"CompetitionOpenSince\"] = pd.to_datetime(\n",
    "        dict(\n",
    "            year=df[\"CompetitionOpenSinceYear\"],\n",
    "            month=df[\"CompetitionOpenSinceMonth\"],\n",
    "            day=15,\n",
    "        )\n",
    "    )\n",
    "    df[\"CompetitionDaysOpen\"] = df[\"Date\"].subtract(df[\"CompetitionOpenSince\"]).dt.days"
   ]
  },
  {
   "cell_type": "markdown",
   "id": "paperback-protein",
   "metadata": {},
   "source": [
    "We'll replace some erroneous / outlying data\n",
    "-   replace the number of days for which competitors have been open by zero, if they have been open for less than 0 days\n",
    "-   replace the year since which competitors have been open by zero, if they have been open since prior to the year 1990"
   ]
  },
  {
   "cell_type": "code",
   "execution_count": null,
   "id": "ideal-marker",
   "metadata": {},
   "outputs": [],
   "source": [
    "%%time\n",
    "for df in (joined,joined_test):\n",
    "    df.loc[df[\"CompetitionDaysOpen\"] < 0, \"CompetitionDaysOpen\"] = 0\n",
    "    df.loc[df[\"CompetitionOpenSinceYear\"] < 1990, \"CompetitionDaysOpen\"] = 0"
   ]
  },
  {
   "cell_type": "markdown",
   "id": "french-thomas",
   "metadata": {},
   "source": [
    "We add the \"CompetitionMonthsOpen\" field, limiting the maximum to 2 years to limit the number of unique categories"
   ]
  },
  {
   "cell_type": "code",
   "execution_count": null,
   "id": "anticipated-mount",
   "metadata": {
    "tags": []
   },
   "outputs": [],
   "source": [
    "%%time\n",
    "for df in (joined,joined_test):\n",
    "    # Convert days to months\n",
    "    df[\"CompetitionMonthsOpen\"] = df[\"CompetitionDaysOpen\"] // 30\n",
    "    # limit the max to 2 years (24 months) to limit number of unique categories\n",
    "    df.loc[df.CompetitionMonthsOpen > 24, \"CompetitionMonthsOpen\"] = 24\n",
    "print(joined.CompetitionMonthsOpen.unique())"
   ]
  },
  {
   "cell_type": "markdown",
   "id": "structural-governor",
   "metadata": {},
   "source": [
    "<a id=\"elapsed-time---promo2\"></a>\n",
    "\n",
    "### 7.2. [Elapsed Time - Promo2](#elapsed-time---promo2)"
   ]
  },
  {
   "cell_type": "markdown",
   "id": "committed-wyoming",
   "metadata": {},
   "source": [
    "We'll similarly extract features \"Promo2Since\" and \"Promo2Days\""
   ]
  },
  {
   "cell_type": "code",
   "execution_count": null,
   "id": "furnished-princess",
   "metadata": {
    "tags": []
   },
   "outputs": [],
   "source": [
    "%%time\n",
    "for df in (joined, joined_test):\n",
    "    df[\"Promo2Since\"] = pd.to_datetime(\n",
    "        df.apply(lambda x: Week(x.Promo2SinceYear, x.Promo2SinceWeek).monday(), axis=1)\n",
    "    )\n",
    "    df[\"Promo2Days\"] = df.Date.subtract(df[\"Promo2Since\"]).dt.days"
   ]
  },
  {
   "cell_type": "markdown",
   "id": "superb-opening",
   "metadata": {},
   "source": [
    "We'll replace some erroneous / outlying data"
   ]
  },
  {
   "cell_type": "code",
   "execution_count": null,
   "id": "functioning-librarian",
   "metadata": {},
   "outputs": [],
   "source": [
    "%%time\n",
    "for df in (joined,joined_test):\n",
    "    df.loc[df[\"Promo2Days\"] < 0, \"Promo2Days\"] = 0\n",
    "    df.loc[df[\"Promo2SinceYear\"] < 1990, \"Promo2Days\"] = 0"
   ]
  },
  {
   "cell_type": "markdown",
   "id": "wanted-surveillance",
   "metadata": {},
   "source": [
    "We add the \"Promo2Weeks\" field, limiting the maximum to 6 months to (as before) limit the number of unique categories"
   ]
  },
  {
   "cell_type": "code",
   "execution_count": null,
   "id": "extended-night",
   "metadata": {},
   "outputs": [],
   "source": [
    "%%time\n",
    "for df in (joined, joined_test):\n",
    "    # Convert days to weeks\n",
    "    df[\"Promo2Weeks\"] = df[\"Promo2Days\"] // 7\n",
    "    # limit ourselves to 6 months to limit number of unique categories\n",
    "    df.loc[df[\"Promo2Weeks\"] < 0, \"Promo2Weeks\"] = 0\n",
    "    df.loc[df[\"Promo2Weeks\"] > 25, \"Promo2Weeks\"] = 25\n",
    "    print(df[\"Promo2Weeks\"].unique())"
   ]
  },
  {
   "cell_type": "markdown",
   "id": "adolescent-perry",
   "metadata": {},
   "source": [
    "<a id=\"add-time-before-and-after-special-events\"></a>\n",
    "\n",
    "### 7.3. [Add time before and after special events](#add-time-before-and-after-special-events)"
   ]
  },
  {
   "cell_type": "markdown",
   "id": "conservative-emerald",
   "metadata": {},
   "source": [
    "**Notes**\n",
    "1.  This will be done across a subset of features\n",
    "2.  This requires `DataFrame`s to be sorted by the relevant field and then by `Date`"
   ]
  },
  {
   "cell_type": "code",
   "execution_count": null,
   "id": "silver-sperm",
   "metadata": {},
   "outputs": [],
   "source": [
    "columns = [\"Date\", \"Store\", \"Promo\", \"StateHoliday\", \"SchoolHoliday\"]"
   ]
  },
  {
   "cell_type": "code",
   "execution_count": null,
   "id": "attractive-baptist",
   "metadata": {
    "tags": []
   },
   "outputs": [],
   "source": [
    "df = train[columns].append(test[columns])"
   ]
  },
  {
   "cell_type": "code",
   "execution_count": null,
   "id": "binary-cycle",
   "metadata": {
    "tags": []
   },
   "outputs": [],
   "source": [
    "%%time\n",
    "fld = 'SchoolHoliday'\n",
    "df = df.sort_values(['Store', 'Date'])\n",
    "get_elapsed(df, fld, 'After')\n",
    "df = df.sort_values(['Store', 'Date'], ascending=[True, False])\n",
    "get_elapsed(df, fld, 'Before')"
   ]
  },
  {
   "cell_type": "code",
   "execution_count": null,
   "id": "lyric-liverpool",
   "metadata": {
    "tags": []
   },
   "outputs": [],
   "source": [
    "%%time\n",
    "fld = 'StateHoliday'\n",
    "df = df.sort_values(['Store', 'Date'])\n",
    "get_elapsed(df, fld, 'After')\n",
    "df = df.sort_values(['Store', 'Date'], ascending=[True, False])\n",
    "get_elapsed(df, fld, 'Before')"
   ]
  },
  {
   "cell_type": "code",
   "execution_count": null,
   "id": "accompanied-persian",
   "metadata": {
    "tags": []
   },
   "outputs": [],
   "source": [
    "%%time\n",
    "fld = 'Promo'\n",
    "df = df.sort_values(['Store', 'Date'])\n",
    "get_elapsed(df, fld, 'After')\n",
    "df = df.sort_values(['Store', 'Date'], ascending=[True, False])\n",
    "get_elapsed(df, fld, 'Before')"
   ]
  },
  {
   "cell_type": "code",
   "execution_count": null,
   "id": "connected-capitol",
   "metadata": {
    "tags": []
   },
   "outputs": [],
   "source": [
    "df = df.set_index(\"Date\")"
   ]
  },
  {
   "cell_type": "markdown",
   "id": "equivalent-forth",
   "metadata": {},
   "source": [
    "Then set null values from elapsed field calculations to 0"
   ]
  },
  {
   "cell_type": "code",
   "execution_count": null,
   "id": "blank-liberty",
   "metadata": {
    "tags": []
   },
   "outputs": [],
   "source": [
    "%%time\n",
    "columns = ['SchoolHoliday', 'StateHoliday', 'Promo']\n",
    "for o in ['Before', 'After']:\n",
    "    for p in columns:\n",
    "        a = o+p\n",
    "        df[a] = df[a].fillna(0).astype(int)"
   ]
  },
  {
   "cell_type": "markdown",
   "id": "southwest-swaziland",
   "metadata": {},
   "source": [
    "<a id=\"weekly-rolling-average,-of-number-of-special-event-days,-by-store\"></a>\n",
    "\n",
    "### 7.4. [Weekly Rolling Average, of number of special-event days, by store](#weekly-rolling-average,-of-number-of-special-event-days,-by-store)"
   ]
  },
  {
   "cell_type": "markdown",
   "id": "exceptional-measurement",
   "metadata": {},
   "source": [
    "Next, we'll calculate the number of special events by store, on a rolling weekly basis. This will give the rolling number of weekly\n",
    "- school holidays\n",
    "- state holidays\n",
    "- promotions\n",
    "\n",
    "per store.\n",
    "\n",
    "This means for tomorrow's observation in the sales data, the rolling total (number) of special-event days over the past week (7 days) will be computed and inserted as a value in a new column. This will be done separately for each store in the sales dataset, and also separately for each of the special-event columns (`SchoolHoliday`, `StateHoliday`, `Promo`).\n",
    "\n",
    "This first requires a sort by date, to ensure the observations are in chronological order, and then count the number of weekly occurrences of special events grouped by store. This gives a backward looking rolling total.i.e. looking into the past (7 days). If the sorting by date is done in descending order (to get later dates to appear first, and have observations appear in reverse chronological order) then this gives a forward-looking rolling total. Both will be used here to engineer rolling statistic features for each of the special-event columns.\n",
    "\n",
    "The steps followed are\n",
    "- calculate backward looking rolling statistic (number of special events)\n",
    "- calculate forward looking rolling statistic\n",
    "- remove `Store` level from the index of the forward- and backward-looking store-wise aggregations\n",
    "- merge rolling statistic (total) with source data"
   ]
  },
  {
   "cell_type": "markdown",
   "id": "assured-weapon",
   "metadata": {},
   "source": [
    "The relevant columns (special events) as well as the `Store` column are shown below"
   ]
  },
  {
   "cell_type": "code",
   "execution_count": null,
   "id": "marked-family",
   "metadata": {
    "tags": []
   },
   "outputs": [],
   "source": [
    "few_store_numbers = [1]\n",
    "df_few_stores = df[df[\"Store\"].isin(few_store_numbers)][\n",
    "    [\"Store\"] + columns\n",
    "].sort_index()\n",
    "display(df_few_stores.head(2 * 7))\n",
    "display(df_few_stores.tail(2 * 7))"
   ]
  },
  {
   "cell_type": "markdown",
   "id": "talented-stage",
   "metadata": {},
   "source": [
    "A preview (showing the first and last 14 days) of the rolling total is shown below for store number 1 in the backward looking direction"
   ]
  },
  {
   "cell_type": "code",
   "execution_count": null,
   "id": "cosmetic-cooperative",
   "metadata": {
    "tags": []
   },
   "outputs": [],
   "source": [
    "%%time\n",
    "df_few_stores_roll_stats = df_few_stores.sort_index().groupby(\"Store\")[columns].rolling(7, min_periods=1).sum().astype(int)\n",
    "df_few_stores_roll_stats[\"weekday\"] = df_few_stores_roll_stats.index.get_level_values(1).day_name()\n",
    "display(df_few_stores_roll_stats.head(2*7))\n",
    "display(df_few_stores_roll_stats.tail(2*7))"
   ]
  },
  {
   "cell_type": "markdown",
   "id": "indian-disclaimer",
   "metadata": {},
   "source": [
    "and similarly, for the same store, in the forward looking direction"
   ]
  },
  {
   "cell_type": "code",
   "execution_count": null,
   "id": "criminal-powell",
   "metadata": {
    "tags": []
   },
   "outputs": [],
   "source": [
    "%%time\n",
    "df_few_stores_roll_stats_reverse_chron = df_few_stores.sort_index(ascending=False).groupby(\"Store\")[columns].rolling(7, min_periods=1).sum().astype(int)\n",
    "df_few_stores_roll_stats_reverse_chron[\"weekday\"] = df_few_stores_roll_stats_reverse_chron.index.get_level_values(1).day_name()\n",
    "display(df_few_stores_roll_stats_reverse_chron.head(2*7))\n",
    "display(df_few_stores_roll_stats_reverse_chron.tail(2*7))"
   ]
  },
  {
   "cell_type": "code",
   "execution_count": null,
   "id": "lined-royalty",
   "metadata": {
    "tags": []
   },
   "outputs": [],
   "source": [
    "%%time\n",
    "roll_stats_pipe = Pipeline(\n",
    "    [\n",
    "        (\"rollstats\", ct.DFMultiDirMultiColRollingStat(\"Store\", columns)),\n",
    "    ]\n",
    ")\n",
    "df = roll_stats_pipe.fit_transform(df)"
   ]
  },
  {
   "cell_type": "markdown",
   "id": "dominant-intro",
   "metadata": {},
   "source": [
    "Convert the `Date` column to `datetime`"
   ]
  },
  {
   "cell_type": "code",
   "execution_count": null,
   "id": "bound-greensboro",
   "metadata": {},
   "outputs": [],
   "source": [
    "to_datetime_pipe = Pipeline(\n",
    "    [\n",
    "        (\"todatetime\", ct.DFToDatetime(\"Date\")),\n",
    "    ]\n",
    ")\n",
    "df = to_datetime_pipe.fit_transform(df)"
   ]
  },
  {
   "cell_type": "markdown",
   "id": "analyzed-suite",
   "metadata": {},
   "source": [
    "Merge the fully merged dataset from [above](#merging-data-sources) with this merged rolling statistic-source data"
   ]
  },
  {
   "cell_type": "code",
   "execution_count": null,
   "id": "freelance-history",
   "metadata": {},
   "outputs": [],
   "source": [
    "%%time\n",
    "joined = left_merge_dfs(joined, df, ['Store', 'Date'])\n",
    "joined = joined[joined.Sales!=0].reset_index()"
   ]
  },
  {
   "cell_type": "code",
   "execution_count": null,
   "id": "driven-crash",
   "metadata": {},
   "outputs": [],
   "source": [
    "%%time\n",
    "joined_test = left_merge_dfs(joined_test, df, ['Store', 'Date']).reset_index()"
   ]
  },
  {
   "cell_type": "markdown",
   "id": "announced-delay",
   "metadata": {},
   "source": [
    "<a id=\"dropping-columns-from-`left-join`\"></a>\n",
    "\n",
    "## 8. [Dropping columns from `LEFT_JOIN`](#dropping-columns-from-`left-join`)"
   ]
  },
  {
   "cell_type": "code",
   "execution_count": null,
   "id": "public-middle",
   "metadata": {
    "tags": []
   },
   "outputs": [],
   "source": [
    "list(\n",
    "    joined.columns[\n",
    "        joined.columns.str.contains(\n",
    "            \"|\".join([\"Promo\", \"StateHoliday\", \"SchoolHoliday\"])\n",
    "        )\n",
    "    ]\n",
    ")"
   ]
  },
  {
   "cell_type": "code",
   "execution_count": null,
   "id": "tight-dayton",
   "metadata": {
    "tags": []
   },
   "outputs": [],
   "source": [
    "%%time\n",
    "joined = joined.drop(joined.columns[joined.columns.str.endswith(\"_y\")].tolist(), axis=1)\n",
    "joined_test = joined_test.drop(joined_test.columns[joined_test.columns.str.endswith(\"_y\")].tolist(), axis=1)"
   ]
  },
  {
   "cell_type": "code",
   "execution_count": null,
   "id": "authentic-cornell",
   "metadata": {
    "tags": []
   },
   "outputs": [],
   "source": [
    "print(joined.shape)\n",
    "print(joined_test.shape)"
   ]
  },
  {
   "cell_type": "code",
   "execution_count": null,
   "id": "duplicate-support",
   "metadata": {
    "tags": []
   },
   "outputs": [],
   "source": [
    "joined.head()"
   ]
  },
  {
   "cell_type": "code",
   "execution_count": null,
   "id": "later-episode",
   "metadata": {
    "tags": []
   },
   "outputs": [],
   "source": [
    "display(joined.head().T)"
   ]
  },
  {
   "cell_type": "markdown",
   "id": "introductory-triangle",
   "metadata": {},
   "source": [
    "<a id=\"export-merged-data\"></a>\n",
    "\n",
    "## 9. [Export merged data](#export-merged-data)"
   ]
  },
  {
   "cell_type": "markdown",
   "id": "worst-musical",
   "metadata": {},
   "source": [
    "We'll define a variable with the path to the parquet file (to be saved) in the raw data folder created above"
   ]
  },
  {
   "cell_type": "code",
   "execution_count": null,
   "id": "black-briefing",
   "metadata": {},
   "outputs": [],
   "source": [
    "timestr = time.strftime(\"%Y%m%d_%H%M%S\")\n",
    "train_parquet_filepath = os.path.join(\n",
    "    processed_data_path, \"cleaned_train\" + \"_\" + timestr + \".parquet\"\n",
    ")\n",
    "test_parquet_filepath = os.path.join(\n",
    "    processed_data_path, \"cleaned_test\" + \"_\" + timestr + \".parquet\"\n",
    ")\n",
    "print(train_parquet_filepath)\n",
    "print(test_parquet_filepath)"
   ]
  },
  {
   "cell_type": "markdown",
   "id": "buried-mills",
   "metadata": {},
   "source": [
    "We'll now save the merged datasets to a separate `parquet` file"
   ]
  },
  {
   "cell_type": "code",
   "execution_count": null,
   "id": "minimal-mortgage",
   "metadata": {
    "tags": []
   },
   "outputs": [],
   "source": [
    "%%time\n",
    "for df, split_type, fpath in zip(\n",
    "    (joined, joined_test),\n",
    "    (\"train\", \"test\"),\n",
    "    (train_parquet_filepath, test_parquet_filepath),\n",
    "):\n",
    "    try:\n",
    "        print(f\"Saving {split_type}ing data to {fpath + '.gzip'}\", end=\"...\")\n",
    "        df.to_parquet(\n",
    "            fpath + \".gzip\",\n",
    "            engine=\"auto\",\n",
    "            index=False,\n",
    "            compression=\"gzip\",\n",
    "        )\n",
    "        print(\"done.\")\n",
    "    except Exception as e:\n",
    "        print(str(e))"
   ]
  },
  {
   "cell_type": "markdown",
   "id": "subsequent-kazakhstan",
   "metadata": {},
   "source": [
    "<a id=\"ideas-for-exploratory-data-analysis\"></a>\n",
    "\n",
    "## 10. [Ideas for Exploratory Data Analysis](#ideas-for-exploratory-data-analysis)"
   ]
  },
  {
   "cell_type": "markdown",
   "id": "designing-federal",
   "metadata": {},
   "source": [
    "Based on data cleaning and feature engineering, the following is a preliminary list of relationships in the data to be examined via exploratory data analysis\n",
    "-   on a per store basis, explore rolling total of weekly special event days versus weekly sales\n",
    "-   sales per state\n",
    "-   sales on special event days regular regular business days\n",
    "-   sales on school or state holidays versus regular business days\n",
    "-   sales by various datetime attributes\n",
    "-   on a per store basis, sales as a function of time\n",
    "-   sales per store\n",
    "-   sales versus weather events [`Mean_Wind_SpeedKm_h`, `Precipitationmm`,`CloudCover` (maybe categorical), `Events` (categorical)]"
   ]
  },
  {
   "cell_type": "markdown",
   "id": "after-anatomy",
   "metadata": {},
   "source": [
    "---"
   ]
  },
  {
   "cell_type": "markdown",
   "id": "under-husband",
   "metadata": {},
   "source": [
    "<span style=\"float:left;\">\n",
    "    &#169; 2021 | <a href=\"https://github.com/edesz/streetcar-delays\">@edesz</a> (MIT)\n",
    "</span>\n",
    "    \n",
    "<span style=\"float:right;\">\n",
    "    <a href=\"./2_xgboost_trials.ipynb\">2 - Regression Trials with XGBoost >></a>\n",
    "</span>"
   ]
  }
 ],
 "metadata": {
  "kernelspec": {
   "display_name": "Python 3",
   "language": "python",
   "name": "python3"
  },
  "language_info": {
   "codemirror_mode": {
    "name": "ipython",
    "version": 3
   },
   "file_extension": ".py",
   "mimetype": "text/x-python",
   "name": "python",
   "nbconvert_exporter": "python",
   "pygments_lexer": "ipython3",
   "version": "3.8.5"
  }
 },
 "nbformat": 4,
 "nbformat_minor": 5
}
