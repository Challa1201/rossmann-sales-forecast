{
 "cells": [
  {
   "cell_type": "markdown",
   "id": "above-compression",
   "metadata": {},
   "source": [
    "# Retrieve Data"
   ]
  },
  {
   "cell_type": "code",
   "execution_count": null,
   "id": "difficult-spine",
   "metadata": {
    "tags": []
   },
   "outputs": [],
   "source": [
    "import os\n",
    "import tarfile"
   ]
  },
  {
   "cell_type": "code",
   "execution_count": null,
   "id": "above-safety",
   "metadata": {
    "tags": []
   },
   "outputs": [],
   "source": [
    "PROJ_ROOT_DIR = os.getcwd()"
   ]
  },
  {
   "cell_type": "code",
   "execution_count": null,
   "id": "modern-thanks",
   "metadata": {
    "tags": [
     "parameters"
    ]
   },
   "outputs": [],
   "source": [
    "tar_filename_no_extension = \"rossmann\""
   ]
  },
  {
   "cell_type": "code",
   "execution_count": null,
   "id": "illegal-diversity",
   "metadata": {
    "tags": []
   },
   "outputs": [],
   "source": [
    "raw_data_path = os.path.join(PROJ_ROOT_DIR, \"data\", \"raw\")"
   ]
  },
  {
   "cell_type": "markdown",
   "id": "usual-cambridge",
   "metadata": {},
   "source": [
    "Download tar file (`.tgz`) to `data/raw`"
   ]
  },
  {
   "cell_type": "code",
   "execution_count": null,
   "id": "level-contrast",
   "metadata": {
    "tags": []
   },
   "outputs": [],
   "source": [
    "!wget -q $RAW_DATA_URL -P data/raw/"
   ]
  },
  {
   "cell_type": "markdown",
   "id": "exceptional-decision",
   "metadata": {},
   "source": [
    "Untar files into `data/raw/rossmann`"
   ]
  },
  {
   "cell_type": "code",
   "execution_count": null,
   "id": "classical-recorder",
   "metadata": {
    "tags": []
   },
   "outputs": [],
   "source": [
    "tar = tarfile.open(os.path.join(raw_data_path, f\"{tar_filename_no_extension}.tgz\"), \"r:gz\")\n",
    "tar.extractall(path=os.path.join(raw_data_path, tar_filename_no_extension))\n",
    "tar.close()"
   ]
  }
 ],
 "metadata": {
  "kernelspec": {
   "display_name": "Python 3",
   "language": "python",
   "name": "python3"
  },
  "language_info": {
   "codemirror_mode": {
    "name": "ipython",
    "version": 3
   },
   "file_extension": ".py",
   "mimetype": "text/x-python",
   "name": "python",
   "nbconvert_exporter": "python",
   "pygments_lexer": "ipython3",
   "version": "3.8.5"
  }
 },
 "nbformat": 4,
 "nbformat_minor": 5
}
