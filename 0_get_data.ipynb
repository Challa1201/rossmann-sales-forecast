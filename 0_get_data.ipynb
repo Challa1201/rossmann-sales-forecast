{
 "cells": [
  {
   "cell_type": "markdown",
   "id": "personal-horizon",
   "metadata": {},
   "source": [
    "# Retrieve Data"
   ]
  },
  {
   "cell_type": "code",
   "execution_count": null,
   "id": "impressive-pledge",
   "metadata": {
    "tags": []
   },
   "outputs": [],
   "source": [
    "import os\n",
    "import tarfile"
   ]
  },
  {
   "cell_type": "code",
   "execution_count": null,
   "id": "assisted-elimination",
   "metadata": {},
   "outputs": [],
   "source": [
    "PROJ_ROOT_DIR = os.getcwd()"
   ]
  },
  {
   "cell_type": "code",
   "execution_count": null,
   "id": "joint-northwest",
   "metadata": {
    "tags": [
     "parameters"
    ]
   },
   "outputs": [],
   "source": [
    "base_url = str(os.getenv(\"BASE_URL\"))\n",
    "tar_filename_no_extension = \"rossmann\""
   ]
  },
  {
   "cell_type": "code",
   "execution_count": null,
   "id": "medieval-iceland",
   "metadata": {
    "tags": []
   },
   "outputs": [],
   "source": [
    "raw_data_path = os.path.join(PROJ_ROOT_DIR, \"data\", \"raw\")"
   ]
  },
  {
   "cell_type": "markdown",
   "id": "pressing-grounds",
   "metadata": {},
   "source": [
    "Download tar file (`.tgz`) to `data/raw`"
   ]
  },
  {
   "cell_type": "code",
   "execution_count": null,
   "id": "decimal-watson",
   "metadata": {
    "tags": []
   },
   "outputs": [],
   "source": [
    "!wget -q $RAW_DATA_URL -P data/raw/"
   ]
  },
  {
   "cell_type": "markdown",
   "id": "combined-grounds",
   "metadata": {},
   "source": [
    "Untar files into `data/raw/rossmann`"
   ]
  },
  {
   "cell_type": "code",
   "execution_count": null,
   "id": "connected-blond",
   "metadata": {
    "tags": []
   },
   "outputs": [],
   "source": [
    "tar = tarfile.open(os.path.join(raw_data_path, f\"{tar_filename_no_extension}.tgz\"), \"r:gz\")\n",
    "tar.extractall(path=os.path.join(raw_data_path, tar_filename_no_extension))\n",
    "tar.close()"
   ]
  }
 ],
 "metadata": {
  "kernelspec": {
   "display_name": "Python 3",
   "language": "python",
   "name": "python3"
  },
  "language_info": {
   "codemirror_mode": {
    "name": "ipython",
    "version": 3
   },
   "file_extension": ".py",
   "mimetype": "text/x-python",
   "name": "python",
   "nbconvert_exporter": "python",
   "pygments_lexer": "ipython3",
   "version": "3.8.5"
  }
 },
 "nbformat": 4,
 "nbformat_minor": 5
}
