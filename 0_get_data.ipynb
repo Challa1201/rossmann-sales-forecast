{
 "cells": [
  {
   "cell_type": "markdown",
   "id": "regular-comparison",
   "metadata": {},
   "source": [
    "# Retrieve Data"
   ]
  },
  {
   "cell_type": "code",
   "execution_count": 1,
   "id": "conditional-boost",
   "metadata": {
    "execution": {
     "iopub.execute_input": "2021-03-19T04:40:16.452237Z",
     "iopub.status.busy": "2021-03-19T04:40:16.452104Z",
     "iopub.status.idle": "2021-03-19T04:40:16.457503Z",
     "shell.execute_reply": "2021-03-19T04:40:16.457074Z",
     "shell.execute_reply.started": "2021-03-19T04:40:16.452199Z"
    },
    "tags": []
   },
   "outputs": [],
   "source": [
    "import os\n",
    "import tarfile"
   ]
  },
  {
   "cell_type": "code",
   "execution_count": 2,
   "id": "frank-bacon",
   "metadata": {
    "execution": {
     "iopub.execute_input": "2021-03-19T04:40:16.458271Z",
     "iopub.status.busy": "2021-03-19T04:40:16.458151Z",
     "iopub.status.idle": "2021-03-19T04:40:16.462817Z",
     "shell.execute_reply": "2021-03-19T04:40:16.462230Z",
     "shell.execute_reply.started": "2021-03-19T04:40:16.458256Z"
    }
   },
   "outputs": [],
   "source": [
    "PROJ_ROOT_DIR = os.getcwd()"
   ]
  },
  {
   "cell_type": "code",
   "execution_count": 3,
   "id": "divine-vancouver",
   "metadata": {
    "execution": {
     "iopub.execute_input": "2021-03-19T04:40:16.463490Z",
     "iopub.status.busy": "2021-03-19T04:40:16.463369Z",
     "iopub.status.idle": "2021-03-19T04:40:16.467138Z",
     "shell.execute_reply": "2021-03-19T04:40:16.466723Z",
     "shell.execute_reply.started": "2021-03-19T04:40:16.463474Z"
    },
    "tags": [
     "parameters"
    ]
   },
   "outputs": [],
   "source": [
    "base_url = str(os.getenv(\"BASE_URL\"))\n",
    "tar_filename_no_extension = \"rossmann\""
   ]
  },
  {
   "cell_type": "code",
   "execution_count": 4,
   "id": "level-programming",
   "metadata": {
    "execution": {
     "iopub.execute_input": "2021-03-19T04:40:16.467758Z",
     "iopub.status.busy": "2021-03-19T04:40:16.467643Z",
     "iopub.status.idle": "2021-03-19T04:40:16.471780Z",
     "shell.execute_reply": "2021-03-19T04:40:16.471359Z",
     "shell.execute_reply.started": "2021-03-19T04:40:16.467743Z"
    },
    "tags": []
   },
   "outputs": [],
   "source": [
    "raw_data_path = os.path.join(PROJ_ROOT_DIR, \"data\", \"raw\")"
   ]
  },
  {
   "cell_type": "markdown",
   "id": "beginning-watson",
   "metadata": {},
   "source": [
    "Download tar file (`.tgz`) to `data/raw`"
   ]
  },
  {
   "cell_type": "code",
   "execution_count": 5,
   "id": "computational-check",
   "metadata": {
    "execution": {
     "iopub.execute_input": "2021-03-19T04:40:16.472502Z",
     "iopub.status.busy": "2021-03-19T04:40:16.472312Z",
     "iopub.status.idle": "2021-03-19T04:40:17.159110Z",
     "shell.execute_reply": "2021-03-19T04:40:17.157514Z",
     "shell.execute_reply.started": "2021-03-19T04:40:16.472483Z"
    },
    "tags": []
   },
   "outputs": [],
   "source": [
    "!wget -q https://files.fast.ai/part2/lesson14/rossmann.tgz -P data/raw/"
   ]
  },
  {
   "cell_type": "markdown",
   "id": "presidential-grave",
   "metadata": {},
   "source": [
    "Untar files into `data/raw/rossmann`"
   ]
  },
  {
   "cell_type": "code",
   "execution_count": 6,
   "id": "accepted-presentation",
   "metadata": {
    "execution": {
     "iopub.execute_input": "2021-03-19T04:40:17.161539Z",
     "iopub.status.busy": "2021-03-19T04:40:17.161133Z",
     "iopub.status.idle": "2021-03-19T04:40:17.382832Z",
     "shell.execute_reply": "2021-03-19T04:40:17.382341Z",
     "shell.execute_reply.started": "2021-03-19T04:40:17.161487Z"
    },
    "tags": []
   },
   "outputs": [],
   "source": [
    "tar = tarfile.open(os.path.join(raw_data_path, f\"{tar_filename_no_extension}.tgz\"), \"r:gz\")\n",
    "tar.extractall(path=os.path.join(raw_data_path, tar_filename_no_extension))\n",
    "tar.close()"
   ]
  }
 ],
 "metadata": {
  "kernelspec": {
   "display_name": "Python 3",
   "language": "python",
   "name": "python3"
  },
  "language_info": {
   "codemirror_mode": {
    "name": "ipython",
    "version": 3
   },
   "file_extension": ".py",
   "mimetype": "text/x-python",
   "name": "python",
   "nbconvert_exporter": "python",
   "pygments_lexer": "ipython3",
   "version": "3.8.5"
  }
 },
 "nbformat": 4,
 "nbformat_minor": 5
}
